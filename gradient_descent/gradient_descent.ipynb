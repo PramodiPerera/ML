{
 "cells": [
  {
   "cell_type": "markdown",
   "id": "c6c34fc6",
   "metadata": {},
   "source": [
    "## Cost function and gradient descent"
   ]
  },
  {
   "cell_type": "code",
   "execution_count": 2,
   "id": "de449159",
   "metadata": {},
   "outputs": [],
   "source": [
    "import numpy as np\n",
    "import pandas as pd\n",
    "import matplotlib.pyplot as plt\n",
    "import math\n",
    "from sklearn import linear_model "
   ]
  },
  {
   "cell_type": "code",
   "execution_count": 10,
   "id": "73768123",
   "metadata": {},
   "outputs": [],
   "source": [
    "# include math scores and cs scores \n",
    "# find relationship between math and cs scores\n",
    "df = pd.read_csv('test_scores.csv');"
   ]
  },
  {
   "cell_type": "code",
   "execution_count": 11,
   "id": "b9ce07a1",
   "metadata": {},
   "outputs": [
    {
     "data": {
      "text/html": [
       "<div>\n",
       "<style scoped>\n",
       "    .dataframe tbody tr th:only-of-type {\n",
       "        vertical-align: middle;\n",
       "    }\n",
       "\n",
       "    .dataframe tbody tr th {\n",
       "        vertical-align: top;\n",
       "    }\n",
       "\n",
       "    .dataframe thead th {\n",
       "        text-align: right;\n",
       "    }\n",
       "</style>\n",
       "<table border=\"1\" class=\"dataframe\">\n",
       "  <thead>\n",
       "    <tr style=\"text-align: right;\">\n",
       "      <th></th>\n",
       "      <th>name</th>\n",
       "      <th>math</th>\n",
       "      <th>cs</th>\n",
       "    </tr>\n",
       "  </thead>\n",
       "  <tbody>\n",
       "    <tr>\n",
       "      <th>0</th>\n",
       "      <td>david</td>\n",
       "      <td>92</td>\n",
       "      <td>98</td>\n",
       "    </tr>\n",
       "    <tr>\n",
       "      <th>1</th>\n",
       "      <td>laura</td>\n",
       "      <td>56</td>\n",
       "      <td>68</td>\n",
       "    </tr>\n",
       "    <tr>\n",
       "      <th>2</th>\n",
       "      <td>sanjay</td>\n",
       "      <td>88</td>\n",
       "      <td>81</td>\n",
       "    </tr>\n",
       "    <tr>\n",
       "      <th>3</th>\n",
       "      <td>wei</td>\n",
       "      <td>70</td>\n",
       "      <td>80</td>\n",
       "    </tr>\n",
       "    <tr>\n",
       "      <th>4</th>\n",
       "      <td>jeff</td>\n",
       "      <td>80</td>\n",
       "      <td>83</td>\n",
       "    </tr>\n",
       "  </tbody>\n",
       "</table>\n",
       "</div>"
      ],
      "text/plain": [
       "     name  math  cs\n",
       "0   david    92  98\n",
       "1   laura    56  68\n",
       "2  sanjay    88  81\n",
       "3     wei    70  80\n",
       "4    jeff    80  83"
      ]
     },
     "execution_count": 11,
     "metadata": {},
     "output_type": "execute_result"
    }
   ],
   "source": [
    "df.head(5)"
   ]
  },
  {
   "cell_type": "markdown",
   "id": "c4803a4a",
   "metadata": {},
   "source": [
    "#### func for gradient descent"
   ]
  },
  {
   "cell_type": "code",
   "execution_count": 14,
   "id": "909b0bf2",
   "metadata": {},
   "outputs": [],
   "source": [
    "def gradient_descent(x,y):\n",
    "    # starting parameter values\n",
    "    m_curr = b_curr = 0\n",
    "\n",
    "    learning_rate = 0.01\n",
    "    m = len(x)\n",
    "    \n",
    "    plt.scatter(x, y, color='red', marker='+', linewidths='5')\n",
    "\n",
    "    pre_cost = cost = 0\n",
    "    i = 0\n",
    "    while(True):\n",
    "        y_predict = m_curr * x + b_curr\n",
    "        cost = (1/m) * sum([val**2 for val in (y-y_predict)])\n",
    "\n",
    "        # stop iterations when cost func value is close to pre cost value\n",
    "        if i != 0:\n",
    "            if math.isclose(cost, pre_cost):\n",
    "                break\n",
    "\n",
    "        # calculate derivatives\n",
    "        m_derv = -(2/m)*sum(x*(y-y_predict))\n",
    "        b_derv = -(2/m)*sum(y-y_predict)\n",
    "\n",
    "        # record prev_cost\n",
    "        pre_cost = cost\n",
    "\n",
    "        # update parameters\n",
    "        m_curr = m_curr - learning_rate * m_derv\n",
    "        b_curr = b_curr - learning_rate * b_derv\n",
    "\n",
    "        i = i+1\n",
    "       # print(\"m = {}, b = {}, cost = {}, iterations: {}\". format(m_curr, b_curr, cost, i))\n"
   ]
  },
  {
   "cell_type": "code",
   "execution_count": null,
   "id": "efd6b4b7",
   "metadata": {},
   "outputs": [],
   "source": []
  }
 ],
 "metadata": {
  "kernelspec": {
   "display_name": "Python 3",
   "language": "python",
   "name": "python3"
  },
  "language_info": {
   "codemirror_mode": {
    "name": "ipython",
    "version": 3
   },
   "file_extension": ".py",
   "mimetype": "text/x-python",
   "name": "python",
   "nbconvert_exporter": "python",
   "pygments_lexer": "ipython3",
   "version": "3.8.8"
  }
 },
 "nbformat": 4,
 "nbformat_minor": 5
}
