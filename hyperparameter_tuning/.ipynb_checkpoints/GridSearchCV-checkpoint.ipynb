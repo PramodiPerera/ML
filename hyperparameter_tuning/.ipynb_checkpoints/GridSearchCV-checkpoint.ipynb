{
 "cells": [
  {
   "cell_type": "markdown",
   "id": "581e6b5f",
   "metadata": {},
   "source": [
    "## Hyperparameter Tuning"
   ]
  },
  {
   "cell_type": "code",
   "execution_count": 12,
   "id": "5b7d29b4",
   "metadata": {},
   "outputs": [],
   "source": [
    "import pandas as pd\n",
    "import numpy as np\n",
    "from sklearn.datasets import load_iris\n",
    "from sklearn.model_selection import cross_val_score,GridSearchCV,RandomizedSearchCV "
   ]
  },
  {
   "cell_type": "code",
   "execution_count": 7,
   "id": "16f60449",
   "metadata": {},
   "outputs": [],
   "source": [
    "iris = load_iris()"
   ]
  },
  {
   "cell_type": "markdown",
   "id": "495fc0fa",
   "metadata": {},
   "source": [
    " #### Manually try different parameters using _cross_val_score_"
   ]
  },
  {
   "cell_type": "code",
   "execution_count": 8,
   "id": "306c1961",
   "metadata": {},
   "outputs": [],
   "source": [
    "from sklearn.svm import SVC"
   ]
  },
  {
   "cell_type": "code",
   "execution_count": 9,
   "id": "c20a8058",
   "metadata": {},
   "outputs": [
    {
     "data": {
      "text/plain": [
       "array([1.        , 1.        , 0.9       , 0.96666667, 1.        ])"
      ]
     },
     "execution_count": 9,
     "metadata": {},
     "output_type": "execute_result"
    }
   ],
   "source": [
    "cross_val_score(SVC(kernel='linear', C=10, gamma='auto'), iris.data, iris.target, cv=5)"
   ]
  },
  {
   "cell_type": "code",
   "execution_count": 10,
   "id": "eba77621",
   "metadata": {},
   "outputs": [
    {
     "data": {
      "text/plain": [
       "array([0.96666667, 1.        , 0.96666667, 0.96666667, 1.        ])"
      ]
     },
     "execution_count": 10,
     "metadata": {},
     "output_type": "execute_result"
    }
   ],
   "source": [
    "cross_val_score(SVC(kernel='rbf', C=10, gamma='auto'), iris.data, iris.target, cv=5)"
   ]
  },
  {
   "cell_type": "code",
   "execution_count": 11,
   "id": "e221485d",
   "metadata": {},
   "outputs": [
    {
     "data": {
      "text/plain": [
       "array([0.96666667, 1.        , 0.9       , 0.96666667, 1.        ])"
      ]
     },
     "execution_count": 11,
     "metadata": {},
     "output_type": "execute_result"
    }
   ],
   "source": [
    "cross_val_score(SVC(kernel='rbf', C=20, gamma='auto'), iris.data, iris.target, cv=5)"
   ]
  },
  {
   "cell_type": "markdown",
   "id": "300e87a2",
   "metadata": {},
   "source": [
    "_Instead of above approach , we can use a for loop to change parameters_"
   ]
  },
  {
   "cell_type": "code",
   "execution_count": 13,
   "id": "98ac43c6",
   "metadata": {},
   "outputs": [
    {
     "data": {
      "text/plain": [
       "{'rbf_1': 0.9800000000000001,\n",
       " 'rbf_10': 0.9800000000000001,\n",
       " 'rbf_20': 0.9666666666666668,\n",
       " 'linear_1': 0.9800000000000001,\n",
       " 'linear_10': 0.9733333333333334,\n",
       " 'linear_20': 0.9666666666666666}"
      ]
     },
     "execution_count": 13,
     "metadata": {},
     "output_type": "execute_result"
    }
   ],
   "source": [
    "kernels = ['rbf', 'linear']\n",
    "C = [1,10,20]\n",
    "avg_scores = {}\n",
    "\n",
    "for k in kernels:\n",
    "    for c in C:\n",
    "        cv_scores = cross_val_score( SVC(kernel=k, C=c, gamma='auto') ,iris.data, iris.target, cv = 5)\n",
    "        avg_scores[k + '_' + str(c)] = np.average(cv_scores)\n",
    "        \n",
    "avg_scores"
   ]
  },
  {
   "cell_type": "markdown",
   "id": "5bc3476b",
   "metadata": {},
   "source": [
    "from above results, rbf with C=1, C=10 and linear with C=1 gives best performance"
   ]
  },
  {
   "cell_type": "code",
   "execution_count": null,
   "id": "b1ce5ad4",
   "metadata": {},
   "outputs": [],
   "source": []
  }
 ],
 "metadata": {
  "kernelspec": {
   "display_name": "Python 3",
   "language": "python",
   "name": "python3"
  },
  "language_info": {
   "codemirror_mode": {
    "name": "ipython",
    "version": 3
   },
   "file_extension": ".py",
   "mimetype": "text/x-python",
   "name": "python",
   "nbconvert_exporter": "python",
   "pygments_lexer": "ipython3",
   "version": "3.8.8"
  }
 },
 "nbformat": 4,
 "nbformat_minor": 5
}
